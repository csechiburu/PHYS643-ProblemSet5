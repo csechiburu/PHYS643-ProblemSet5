{
 "cells": [
  {
   "cell_type": "code",
   "execution_count": 1,
   "metadata": {},
   "outputs": [],
   "source": [
    "import numpy as np\n",
    "import matplotlib.pyplot as plt"
   ]
  },
  {
   "cell_type": "markdown",
   "metadata": {},
   "source": [
    "# Advection equation"
   ]
  },
  {
   "cell_type": "markdown",
   "metadata": {},
   "source": [
    "We want to follow a quantity $f$ of the fluid by solving the advection equation:\n",
    "\n",
    "\\begin{equation}\n",
    "\\partial_t f + u\\partial_x f = 0\n",
    "\\end{equation}\n",
    "\n",
    "with initial conditions $f(x,t=0)=x$.\n",
    "\n",
    "To do this we define a grid of space, where each box is separated by a distance $\\Delta x$, and we solve the equations over a range of timesteps, separated by a time $\\Delta t$. From the advection equation we need to define the spatial derivative:\n",
    "\n",
    "\\begin{equation}\n",
    "f_j' = \\frac{f_{j+1}-f_{j-1}}{2\\Delta x}\n",
    "\\end{equation}\n",
    "\n",
    "and the time derivative:\n",
    "\\begin{equation}\n",
    "\\frac{f_j^{n+1}-f_j^{n}}{\\Delta t}\n",
    "\\end{equation}\n"
   ]
  },
  {
   "cell_type": "code",
   "execution_count": null,
   "metadata": {},
   "outputs": [],
   "source": [
    "# first define the spatial grid\n",
    "Ngrid = 100\n",
    "\n",
    "# then define the time steps\n",
    "Tstep ="
   ]
  }
 ],
 "metadata": {
  "kernelspec": {
   "display_name": "Python 3",
   "language": "python",
   "name": "python3"
  },
  "language_info": {
   "codemirror_mode": {
    "name": "ipython",
    "version": 3
   },
   "file_extension": ".py",
   "mimetype": "text/x-python",
   "name": "python",
   "nbconvert_exporter": "python",
   "pygments_lexer": "ipython3",
   "version": "3.7.4"
  }
 },
 "nbformat": 4,
 "nbformat_minor": 2
}
